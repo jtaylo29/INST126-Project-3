{
 "cells": [
  {
   "cell_type": "code",
   "execution_count": 47,
   "metadata": {},
   "outputs": [],
   "source": [
    "#read and parse file, sort and return dict\n",
    "def parse_log(file):\n",
    "    log_dict = {}\n",
    "    for log in file:\n",
    "        elements = log.split()\n",
    "        date = elements[0]\n",
    "        time = elements[1]\n",
    "        activity = elements[2]\n",
    "        server = elements [3]\n",
    "        email = elements[4]\n",
    "        #add data to log_dict \n",
    "        if email in log_dict:\n",
    "            if date in log_dict[email]:\n",
    "                log_dict[email][date].append((time, activity, server))\n",
    "            else:\n",
    "                log_dict[email][date] = [(time, activity, server)]\n",
    "        else:\n",
    "            log_dict[email] = {date: [(time, activity, server)]}\n",
    "        log_dict[email][date].sort()\n",
    "    return log_dict\n",
    "\n",
    "#read userlog.log\n",
    "userlog = open(\"userlog.log\")\n",
    "file = userlog.readlines()\n",
    "log_dict = parse_log(file)"
   ]
  },
  {
   "cell_type": "code",
   "execution_count": 48,
   "metadata": {},
   "outputs": [],
   "source": [
    "#report suspicious activities\n",
    "susAct = {}\n",
    "susCount = 0\n",
    "for email in log_dict:\n",
    "    for date in log_dict[email]:\n",
    "        loginCount = sum(1 for i in log_dict[email][date] if i[1] == 'login')\n",
    "        lateLogin = any(i[1] == 'login' and int(i[0].split(':')[0]) < 5 for i in log_dict[email][date])\n",
    "        \n",
    "        if loginCount > 5 or lateLogin:\n",
    "            susCount += 1\n",
    "            if email in susAct:\n",
    "                susAct[email].append(date)\n",
    "            else:\n",
    "                susAct[email] = [date]\n",
    "            susAct[email].sort()"
   ]
  },
  {
   "cell_type": "code",
   "execution_count": 49,
   "metadata": {},
   "outputs": [],
   "source": [
    "#report irresponsible behavior\n",
    "irrBehav = {}\n",
    "irrCount = 0\n",
    "for email in log_dict:\n",
    "    for date in log_dict[email]:\n",
    "        loginCount = sum(1 for i in log_dict[email][date] if i[1] == 'login')\n",
    "        logoutCount = sum(1 for i in log_dict[email][date] if i[1] == 'logout')\n",
    "        \n",
    "        if loginCount > logoutCount:\n",
    "            irrCount += 1\n",
    "            if email in irrBehav:\n",
    "                irrBehav[email].append(date)\n",
    "            else:\n",
    "                irrBehav[email] = [date]\n",
    "            irrBehav[email].sort()"
   ]
  },
  {
   "cell_type": "code",
   "execution_count": 50,
   "metadata": {},
   "outputs": [],
   "source": [
    "#report system glitch\n",
    "sysGlitch = {}\n",
    "sysGlitchCount = 0\n",
    "for email in log_dict:\n",
    "    for date in log_dict[email]:\n",
    "        logoutCount = sum(1 for i in log_dict[email][date] if i[1] == 'logout')\n",
    "        loginCount = sum(1 for i in log_dict[email][date] if i[1] == 'login')\n",
    "        \n",
    "        if logoutCount > loginCount:\n",
    "            sysGlitchCount += 1\n",
    "            if email in sysGlitch:\n",
    "                sysGlitch[email].append(date)\n",
    "            else:\n",
    "                sysGlitch[email] = [date]\n",
    "            sysGlitch[email].sort()"
   ]
  },
  {
   "cell_type": "code",
   "execution_count": 51,
   "metadata": {},
   "outputs": [],
   "source": [
    "#report domain count\n",
    "emailList = log_dict.keys()\n",
    "domain_dict = {}\n",
    "for email in emailList:\n",
    "    emailBit = email.split('@')\n",
    "    domain = emailBit[1]\n",
    "    if domain in domain_dict:\n",
    "        domain_dict[domain] += 1\n",
    "    else:\n",
    "        domain_dict[domain] = 1\n",
    "#create report for domain count\n",
    "create_file = open(\"domain_report.txt\", \"x\")\n",
    "create_file.write(\"==============================\\n\")\n",
    "create_file.write(f\"=== Domain Count ({str(len(domain_dict))} Domains) ===\\n\")\n",
    "create_file.write(\"==============================\\n\")\n",
    "               \n",
    "for domain in domain_dict:\n",
    "    create_file.write(f\"{domain}\\t\\t{domain_dict[domain]}\\n\")              \n",
    "create_file.close()"
   ]
  },
  {
   "cell_type": "code",
   "execution_count": 52,
   "metadata": {},
   "outputs": [],
   "source": [
    "#define the function to create reports for sus acts, irr behavior, and sys glitch\n",
    "def writeReport(title, fileName, susAct, susCount, log_dict):\n",
    "    create_file = open(fileName, \"x\")\n",
    "    create_file.write(\"==============================\\n\")\n",
    "    create_file.write(f\"=== {title} ({str(susCount)} cases) ===\\n\")\n",
    "    create_file.write(\"==============================\\n\")\n",
    "    \n",
    "    for email in susAct:\n",
    "        countAct = len(susAct[email])\n",
    "        create_file.write(f\"{email}\\t\\t{str(countAct)}\\n\")\n",
    "        \n",
    "        for date in susAct[email]:\n",
    "            create_file.write(f\"\\tDATE: [{date}] ---\\n\")\n",
    "            \n",
    "            for activity in log_dict[email][date]:\n",
    "                create_file.write(f\"\\t\\t{activity[0]}\\t{activity[2]}\\n\")\n",
    "                \n",
    "    create_file.close()"
   ]
  },
  {
   "cell_type": "code",
   "execution_count": 53,
   "metadata": {},
   "outputs": [],
   "source": [
    "#create reports for sus activities, irr behavior, and sys glitch\n",
    "writeReport(\"Suspicious Activities\", \"suspicious_report.txt\", susAct, susCount, log_dict)\n",
    "writeReport(\"Irresponsible Behavior\", \"irresponsible_report.txt\", irrBehav, irrCount, log_dict)\n",
    "writeReport(\"System Glitch\", \"glitch_report.txt\", sysGlitch, sysGlitchCount, log_dict)"
   ]
  },
  {
   "cell_type": "code",
   "execution_count": null,
   "metadata": {},
   "outputs": [],
   "source": []
  }
 ],
 "metadata": {
  "kernelspec": {
   "display_name": "Python 3",
   "language": "python",
   "name": "python3"
  },
  "language_info": {
   "codemirror_mode": {
    "name": "ipython",
    "version": 3
   },
   "file_extension": ".py",
   "mimetype": "text/x-python",
   "name": "python",
   "nbconvert_exporter": "python",
   "pygments_lexer": "ipython3",
   "version": "3.8.6"
  }
 },
 "nbformat": 4,
 "nbformat_minor": 4
}
